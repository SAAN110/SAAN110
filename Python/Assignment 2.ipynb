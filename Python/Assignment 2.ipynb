{
 "cells": [
  {
   "cell_type": "code",
   "execution_count": null,
   "id": "6614b21c-3bd6-4d26-9bea-0474c406ecb5",
   "metadata": {},
   "outputs": [
    {
     "ename": "",
     "evalue": "",
     "output_type": "error",
     "traceback": [
      "\u001b[1;31mRunning cells with 'Python 3.12.8' requires the ipykernel package.\n",
      "\u001b[1;31mRun the following command to install 'ipykernel' into the Python environment. \n",
      "\u001b[1;31mCommand: '\"c:/Users/Asad Abbas Naqvi/AppData/Local/Microsoft/WindowsApps/python3.12.exe\" -m pip install ipykernel -U --user --force-reinstall'"
     ]
    }
   ],
   "source": [
    "#Question 01\n",
    "age= int(input(\"Enter Your Age:\"))\n",
    "if age>18:\n",
    "    print(\"You are eligible to vote\")\n",
    "else:\n",
    "    print(\"You are not eligible to vote\")"
   ]
  },
  {
   "cell_type": "code",
   "execution_count": null,
   "id": "dbabdd6a-284d-47fd-8823-bdcd53459148",
   "metadata": {},
   "outputs": [],
   "source": [
    "#Question 02\n",
    "number= int(input(\"Enter a Number:\"))\n",
    "for i in range(1,13):\n",
    "    print((number)*(i))\n"
   ]
  },
  {
   "cell_type": "code",
   "execution_count": null,
   "id": "c0a3ffa8-c0e6-4ecc-b1c5-cce5b4ee3288",
   "metadata": {},
   "outputs": [],
   "source": [
    "#Question 03\n",
    "lst = [3, 5, 15, 30, 20]\n",
    "largest = lst[0]\n",
    "for num in lst:\n",
    " if num > largest:\n",
    "    largest = num\n",
    "print(\"Largest number is:\", largest)\n",
    "\n"
   ]
  },
  {
   "cell_type": "code",
   "execution_count": null,
   "id": "8a0a435e-dbc6-4c73-a10b-c11fa6f5e65b",
   "metadata": {},
   "outputs": [],
   "source": [
    "#Question 04\n",
    "lst = [4, 5, 10, 22, 8]\n",
    "largest=0\n",
    "second_largest=0\n",
    "for num in lst:\n",
    " if num > largest:\n",
    "    second_largest = largest\n",
    "    largest = num\n",
    " elif second_largest < num < largest:\n",
    "      second_largest = num\n",
    "print(\"Second largest number is:\", second_largest)"
   ]
  },
  {
   "cell_type": "code",
   "execution_count": null,
   "id": "dda228ea-9cc6-4638-9684-43fbfb0acff0",
   "metadata": {},
   "outputs": [],
   "source": [
    "#Question 05\n",
    "a = int(input(\"Enter first number: \"))\n",
    "b = int(input(\"Enter second number: \"))\n",
    "max_num = max(a, b)\n",
    "while True:\n",
    "    if max_num % a == 0 and max_num % b == 0:\n",
    "        print(f\"LCM of {a} and {b} is: {max_num}\")\n",
    "        break\n",
    "    max_num += 1"
   ]
  },
  {
   "cell_type": "code",
   "execution_count": null,
   "id": "9c4cf845-f0ec-4433-be01-dad908aad34c",
   "metadata": {},
   "outputs": [],
   "source": [
    "#Question 06\n",
    "for i in range(5):\n",
    " print(\"* \" * 5)"
   ]
  },
  {
   "cell_type": "code",
   "execution_count": null,
   "id": "a2f43fdb-f72a-406a-8461-ae5372af588f",
   "metadata": {},
   "outputs": [],
   "source": [
    "#QUestion 07\n",
    "num = int(input(\"Enter a number: \"))\n",
    "i = 2\n",
    "factors = []\n",
    "while num > 1:\n",
    "    if num % i == 0:\n",
    "        factors.append(i)\n",
    "        num //= i\n",
    "    else:\n",
    "        i += 1\n",
    "print(f\"Prime factors: {factors}\")"
   ]
  },
  {
   "cell_type": "code",
   "execution_count": null,
   "id": "8c996fd8-5767-4f98-94a1-450244ffc5f0",
   "metadata": {},
   "outputs": [],
   "source": [
    "#Question 08\n",
    "import string\n",
    "\n",
    "sentence = input(\"Enter a sentence: \").lower()\n",
    "alphabet = set(string.ascii_lowercase)\n",
    "if alphabet <= set(sentence):\n",
    "    print(\"It's a pangram.\")\n",
    "else:\n",
    "    print(\"Not a pangram.\")\n"
   ]
  },
  {
   "cell_type": "code",
   "execution_count": null,
   "id": "6d20b4af-a420-460f-bb76-e29c0eab3662",
   "metadata": {},
   "outputs": [],
   "source": [
    "#Question 09\n",
    "string_input = input(\"Enter a string: \")\n",
    "frequency = {}\n",
    "for char in string_input:\n",
    "    frequency[char] = frequency.get(char, 0) + 1\n",
    "for char, count in frequency.items():\n",
    "    print(f\"{char}: {count}\")"
   ]
  },
  {
   "cell_type": "code",
   "execution_count": null,
   "id": "01fdd351-2f59-4d76-9d74-eb61c067afc3",
   "metadata": {},
   "outputs": [],
   "source": [
    "#Question 10\n",
    "sentence = input(\"Enter a sentence: \")\n",
    "word_count = len(sentence.split())\n",
    "print(f\"Number of words: {word_count}\")"
   ]
  }
 ],
 "metadata": {
  "kernelspec": {
   "display_name": "Python 3",
   "language": "python",
   "name": "python3"
  },
  "language_info": {
   "codemirror_mode": {
    "name": "ipython",
    "version": 3
   },
   "file_extension": ".py",
   "mimetype": "text/x-python",
   "name": "python",
   "nbconvert_exporter": "python",
   "pygments_lexer": "ipython3",
   "version": "3.12.10"
  }
 },
 "nbformat": 4,
 "nbformat_minor": 5
}
